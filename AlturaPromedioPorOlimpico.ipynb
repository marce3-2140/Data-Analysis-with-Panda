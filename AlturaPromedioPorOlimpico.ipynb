{
  "nbformat": 4,
  "nbformat_minor": 0,
  "metadata": {
    "colab": {
      "provenance": [],
      "authorship_tag": "ABX9TyOXVp74+CB9XiRfm2vlajtA",
      "include_colab_link": true
    },
    "kernelspec": {
      "name": "python3",
      "display_name": "Python 3"
    },
    "language_info": {
      "name": "python"
    }
  },
  "cells": [
    {
      "cell_type": "markdown",
      "metadata": {
        "id": "view-in-github",
        "colab_type": "text"
      },
      "source": [
        "<a href=\"https://colab.research.google.com/github/marce3-2140/Data-Analysis-with-Panda/blob/main/AlturaPromedioPorOlimpico.ipynb\" target=\"_parent\"><img src=\"https://colab.research.google.com/assets/colab-badge.svg\" alt=\"Open In Colab\"/></a>"
      ]
    },
    {
      "cell_type": "markdown",
      "source": [
        "\n",
        "\n",
        "# **DataFrame name: 120 Years of Olimpyc History**\n",
        "\n"
      ],
      "metadata": {
        "id": "coHs_4506xZe"
      }
    },
    {
      "cell_type": "markdown",
      "source": [
        "> **Contexto:**\n",
        "\n",
        "This is a historical dataset on the modern Olympic Games, Including all the games from Athens 1896 to Rio 2016."
      ],
      "metadata": {
        "id": "3meVcCbBt_H9"
      }
    },
    {
      "cell_type": "markdown",
      "source": [
        ">  **Descripción del Diccionario de Datos**\n",
        "\n",
        "[ByTableGenerator](https://www.tablesgenerator.com/markdown_tables#)"
      ],
      "metadata": {
        "id": "FK4EGePVImVE"
      }
    },
    {
      "cell_type": "markdown",
      "source": [
        ">**Desrcipción de la actividad**\n",
        "\n",
        "1.  Carguen este conjunto de datos y explórenlo. Respondan las siguientes preguntas:\n",
        "\n",
        "     a. ¿Cuántas filas hay?\n",
        "\n",
        "     b. ¿Cuántas columnas hay?\n",
        "\n",
        "     c. ¿A qué columnas le faltan datos? (¿Por qué creen que hay muchos valores nulos en la columna Medals (medallas)?\n",
        "\n",
        "     d. ¿Cuántas entradas corresponden a la ciudad de Londres?\n",
        "\n",
        "     e. ¿Cuántos años tiene el atleta más joven en nuestros datos de muestra?  Pista: usen min()\n",
        "\n",
        "2. Creen filtros para encontrar:\n",
        "\n",
        "     a. ¿Cuántos atletas que participaron en el deporte \"Tug-Of-War\" (tira y afloja) pertenecían en el equipo “Sweden” (sueco) en el conjunto de datos de muestra?\n",
        "\n",
        "     b. ¿Cuántas medallas de oro se le entregaron a los atletas que tenían más de 40 años?\n",
        "\n",
        "3. Determinen la altura promedio de:\n",
        "\n",
        "     a. Todas las filas incluidas.\n",
        "\n",
        "     b. Todas las filas incluidas, pero agrupadas por Event (evento).\n",
        "\n",
        "     c. Bono: Este conjunto de datos contiene muchos atletas más de una vez (si compitieron en varios eventos y/o varios años). Pueden confirmarlo encontrarlo .value_counts en la columna ID.  Para la tarea del bono queremos que obtengan la altura promedio de todos los atletas, pero sin incluir algún atleta más de una vez.  Pista: Aprendimos cómo eliminar duplicados si CADA columna fuera idéntica, sin embargo, ahora tenemos que eliminar una fila cada vez que un ID se repite.  Para hacer eso, pueden usar un subconjunto de sus datos como un argumento en la función drop_duplicates.  También le pueden decir a Python cuales duplicados mantener usando el argumento keep.\n",
        "\n",
        "    \n",
        "\n",
        "```\n",
        "Because I don't want to drop all of these values permanently from my df,\n",
        "assign this as a new dataframe that I called \"one_per_athlete\"\n",
        "one_per_athlete = df.drop_duplicates(subset = 'Column_Name', keep = 'first')\n",
        "\n",
        "\n",
        "```\n",
        "\n"
      ],
      "metadata": {
        "id": "gHgjvdhcxIpe"
      }
    },
    {
      "cell_type": "markdown",
      "source": [
        "### **Solución:**"
      ],
      "metadata": {
        "id": "smmvlguLJMfI"
      }
    },
    {
      "cell_type": "code",
      "execution_count": 48,
      "metadata": {
        "id": "Fmm1iAJQt0zD"
      },
      "outputs": [],
      "source": [
        "# librerias\n",
        "\n",
        "import numpy as np\n",
        "import pandas as pd\n",
        "\n",
        "import matplotlib.pyplot as plt\n",
        "import seaborn as sns"
      ]
    },
    {
      "cell_type": "code",
      "source": [
        "from google.colab import drive\n",
        "drive.mount('/content/drive')"
      ],
      "metadata": {
        "id": "-IpQvskCJV4O",
        "colab": {
          "base_uri": "https://localhost:8080/"
        },
        "outputId": "67bc3d59-b0a0-4574-8abd-397e75e2e9e0"
      },
      "execution_count": 49,
      "outputs": [
        {
          "output_type": "stream",
          "name": "stdout",
          "text": [
            "Drive already mounted at /content/drive; to attempt to forcibly remount, call drive.mount(\"/content/drive\", force_remount=True).\n"
          ]
        }
      ]
    },
    {
      "cell_type": "code",
      "source": [
        "filename = '/content/drive/MyDrive/CodingDojo/Fundamentals/Week3/Cargas/athleteEventsNoPersonal.csv'\n",
        "df = pd.read_csv(filename)"
      ],
      "metadata": {
        "id": "3k7l82KuJjH-"
      },
      "execution_count": 50,
      "outputs": []
    },
    {
      "cell_type": "code",
      "source": [
        "from google.colab import drive\n",
        "drive.mount('/content/drive')\n",
        "\n",
        "filename = '/content/drive/MyDrive/CodingDojo/Fundamentals/Week3/Cargas/athleteEventsNoPersonal.csv'\n",
        "df = pd.read_csv(filename)"
      ],
      "metadata": {
        "colab": {
          "base_uri": "https://localhost:8080/"
        },
        "id": "N-3EqEjb3jpS",
        "outputId": "9725f7e2-b784-4634-8f10-68aad6db2e55"
      },
      "execution_count": 51,
      "outputs": [
        {
          "output_type": "stream",
          "name": "stdout",
          "text": [
            "Drive already mounted at /content/drive; to attempt to forcibly remount, call drive.mount(\"/content/drive\", force_remount=True).\n"
          ]
        }
      ]
    },
    {
      "cell_type": "markdown",
      "source": [
        "###I. **Análisis Exploratorio de los Datos**"
      ],
      "metadata": {
        "id": "g8vYJCQ2JDyx"
      }
    },
    {
      "cell_type": "code",
      "source": [
        "df.head()"
      ],
      "metadata": {
        "id": "XjBaAisoohij",
        "outputId": "776899fb-04b2-4684-ceb9-8b74eab92bc7",
        "colab": {
          "base_uri": "https://localhost:8080/",
          "height": 206
        }
      },
      "execution_count": 52,
      "outputs": [
        {
          "output_type": "execute_result",
          "data": {
            "text/plain": [
              "   ID   Age  Height         Team  NOC        Games  Year  Season         City  \\\n",
              "0   5  21.0   185.0  Netherlands  NED  1988 Winter  1988  Winter      Calgary   \n",
              "1   5  21.0   185.0  Netherlands  NED  1988 Winter  1988  Winter      Calgary   \n",
              "2   5  25.0   185.0  Netherlands  NED  1992 Winter  1992  Winter  Albertville   \n",
              "3   5  25.0   185.0  Netherlands  NED  1992 Winter  1992  Winter  Albertville   \n",
              "4   5  27.0   185.0  Netherlands  NED  1994 Winter  1994  Winter  Lillehammer   \n",
              "\n",
              "           Sport                               Event Medal  \n",
              "0  Speed Skating    Speed Skating Women's 500 metres   NaN  \n",
              "1  Speed Skating  Speed Skating Women's 1,000 metres   NaN  \n",
              "2  Speed Skating    Speed Skating Women's 500 metres   NaN  \n",
              "3  Speed Skating  Speed Skating Women's 1,000 metres   NaN  \n",
              "4  Speed Skating    Speed Skating Women's 500 metres   NaN  "
            ],
            "text/html": [
              "\n",
              "\n",
              "  <div id=\"df-0cc88e98-e57f-4d30-b045-c1a000186e07\">\n",
              "    <div class=\"colab-df-container\">\n",
              "      <div>\n",
              "<style scoped>\n",
              "    .dataframe tbody tr th:only-of-type {\n",
              "        vertical-align: middle;\n",
              "    }\n",
              "\n",
              "    .dataframe tbody tr th {\n",
              "        vertical-align: top;\n",
              "    }\n",
              "\n",
              "    .dataframe thead th {\n",
              "        text-align: right;\n",
              "    }\n",
              "</style>\n",
              "<table border=\"1\" class=\"dataframe\">\n",
              "  <thead>\n",
              "    <tr style=\"text-align: right;\">\n",
              "      <th></th>\n",
              "      <th>ID</th>\n",
              "      <th>Age</th>\n",
              "      <th>Height</th>\n",
              "      <th>Team</th>\n",
              "      <th>NOC</th>\n",
              "      <th>Games</th>\n",
              "      <th>Year</th>\n",
              "      <th>Season</th>\n",
              "      <th>City</th>\n",
              "      <th>Sport</th>\n",
              "      <th>Event</th>\n",
              "      <th>Medal</th>\n",
              "    </tr>\n",
              "  </thead>\n",
              "  <tbody>\n",
              "    <tr>\n",
              "      <th>0</th>\n",
              "      <td>5</td>\n",
              "      <td>21.0</td>\n",
              "      <td>185.0</td>\n",
              "      <td>Netherlands</td>\n",
              "      <td>NED</td>\n",
              "      <td>1988 Winter</td>\n",
              "      <td>1988</td>\n",
              "      <td>Winter</td>\n",
              "      <td>Calgary</td>\n",
              "      <td>Speed Skating</td>\n",
              "      <td>Speed Skating Women's 500 metres</td>\n",
              "      <td>NaN</td>\n",
              "    </tr>\n",
              "    <tr>\n",
              "      <th>1</th>\n",
              "      <td>5</td>\n",
              "      <td>21.0</td>\n",
              "      <td>185.0</td>\n",
              "      <td>Netherlands</td>\n",
              "      <td>NED</td>\n",
              "      <td>1988 Winter</td>\n",
              "      <td>1988</td>\n",
              "      <td>Winter</td>\n",
              "      <td>Calgary</td>\n",
              "      <td>Speed Skating</td>\n",
              "      <td>Speed Skating Women's 1,000 metres</td>\n",
              "      <td>NaN</td>\n",
              "    </tr>\n",
              "    <tr>\n",
              "      <th>2</th>\n",
              "      <td>5</td>\n",
              "      <td>25.0</td>\n",
              "      <td>185.0</td>\n",
              "      <td>Netherlands</td>\n",
              "      <td>NED</td>\n",
              "      <td>1992 Winter</td>\n",
              "      <td>1992</td>\n",
              "      <td>Winter</td>\n",
              "      <td>Albertville</td>\n",
              "      <td>Speed Skating</td>\n",
              "      <td>Speed Skating Women's 500 metres</td>\n",
              "      <td>NaN</td>\n",
              "    </tr>\n",
              "    <tr>\n",
              "      <th>3</th>\n",
              "      <td>5</td>\n",
              "      <td>25.0</td>\n",
              "      <td>185.0</td>\n",
              "      <td>Netherlands</td>\n",
              "      <td>NED</td>\n",
              "      <td>1992 Winter</td>\n",
              "      <td>1992</td>\n",
              "      <td>Winter</td>\n",
              "      <td>Albertville</td>\n",
              "      <td>Speed Skating</td>\n",
              "      <td>Speed Skating Women's 1,000 metres</td>\n",
              "      <td>NaN</td>\n",
              "    </tr>\n",
              "    <tr>\n",
              "      <th>4</th>\n",
              "      <td>5</td>\n",
              "      <td>27.0</td>\n",
              "      <td>185.0</td>\n",
              "      <td>Netherlands</td>\n",
              "      <td>NED</td>\n",
              "      <td>1994 Winter</td>\n",
              "      <td>1994</td>\n",
              "      <td>Winter</td>\n",
              "      <td>Lillehammer</td>\n",
              "      <td>Speed Skating</td>\n",
              "      <td>Speed Skating Women's 500 metres</td>\n",
              "      <td>NaN</td>\n",
              "    </tr>\n",
              "  </tbody>\n",
              "</table>\n",
              "</div>\n",
              "      <button class=\"colab-df-convert\" onclick=\"convertToInteractive('df-0cc88e98-e57f-4d30-b045-c1a000186e07')\"\n",
              "              title=\"Convert this dataframe to an interactive table.\"\n",
              "              style=\"display:none;\">\n",
              "\n",
              "  <svg xmlns=\"http://www.w3.org/2000/svg\" height=\"24px\"viewBox=\"0 0 24 24\"\n",
              "       width=\"24px\">\n",
              "    <path d=\"M0 0h24v24H0V0z\" fill=\"none\"/>\n",
              "    <path d=\"M18.56 5.44l.94 2.06.94-2.06 2.06-.94-2.06-.94-.94-2.06-.94 2.06-2.06.94zm-11 1L8.5 8.5l.94-2.06 2.06-.94-2.06-.94L8.5 2.5l-.94 2.06-2.06.94zm10 10l.94 2.06.94-2.06 2.06-.94-2.06-.94-.94-2.06-.94 2.06-2.06.94z\"/><path d=\"M17.41 7.96l-1.37-1.37c-.4-.4-.92-.59-1.43-.59-.52 0-1.04.2-1.43.59L10.3 9.45l-7.72 7.72c-.78.78-.78 2.05 0 2.83L4 21.41c.39.39.9.59 1.41.59.51 0 1.02-.2 1.41-.59l7.78-7.78 2.81-2.81c.8-.78.8-2.07 0-2.86zM5.41 20L4 18.59l7.72-7.72 1.47 1.35L5.41 20z\"/>\n",
              "  </svg>\n",
              "      </button>\n",
              "\n",
              "\n",
              "\n",
              "    <div id=\"df-cfce5dd6-4860-41ab-b3b8-f279ebdc6885\">\n",
              "      <button class=\"colab-df-quickchart\" onclick=\"quickchart('df-cfce5dd6-4860-41ab-b3b8-f279ebdc6885')\"\n",
              "              title=\"Suggest charts.\"\n",
              "              style=\"display:none;\">\n",
              "\n",
              "<svg xmlns=\"http://www.w3.org/2000/svg\" height=\"24px\"viewBox=\"0 0 24 24\"\n",
              "     width=\"24px\">\n",
              "    <g>\n",
              "        <path d=\"M19 3H5c-1.1 0-2 .9-2 2v14c0 1.1.9 2 2 2h14c1.1 0 2-.9 2-2V5c0-1.1-.9-2-2-2zM9 17H7v-7h2v7zm4 0h-2V7h2v10zm4 0h-2v-4h2v4z\"/>\n",
              "    </g>\n",
              "</svg>\n",
              "      </button>\n",
              "    </div>\n",
              "\n",
              "<style>\n",
              "  .colab-df-quickchart {\n",
              "    background-color: #E8F0FE;\n",
              "    border: none;\n",
              "    border-radius: 50%;\n",
              "    cursor: pointer;\n",
              "    display: none;\n",
              "    fill: #1967D2;\n",
              "    height: 32px;\n",
              "    padding: 0 0 0 0;\n",
              "    width: 32px;\n",
              "  }\n",
              "\n",
              "  .colab-df-quickchart:hover {\n",
              "    background-color: #E2EBFA;\n",
              "    box-shadow: 0px 1px 2px rgba(60, 64, 67, 0.3), 0px 1px 3px 1px rgba(60, 64, 67, 0.15);\n",
              "    fill: #174EA6;\n",
              "  }\n",
              "\n",
              "  [theme=dark] .colab-df-quickchart {\n",
              "    background-color: #3B4455;\n",
              "    fill: #D2E3FC;\n",
              "  }\n",
              "\n",
              "  [theme=dark] .colab-df-quickchart:hover {\n",
              "    background-color: #434B5C;\n",
              "    box-shadow: 0px 1px 3px 1px rgba(0, 0, 0, 0.15);\n",
              "    filter: drop-shadow(0px 1px 2px rgba(0, 0, 0, 0.3));\n",
              "    fill: #FFFFFF;\n",
              "  }\n",
              "</style>\n",
              "\n",
              "    <script>\n",
              "      async function quickchart(key) {\n",
              "        const containerElement = document.querySelector('#' + key);\n",
              "        const charts = await google.colab.kernel.invokeFunction(\n",
              "            'suggestCharts', [key], {});\n",
              "      }\n",
              "    </script>\n",
              "\n",
              "      <script>\n",
              "\n",
              "function displayQuickchartButton(domScope) {\n",
              "  let quickchartButtonEl =\n",
              "    domScope.querySelector('#df-cfce5dd6-4860-41ab-b3b8-f279ebdc6885 button.colab-df-quickchart');\n",
              "  quickchartButtonEl.style.display =\n",
              "    google.colab.kernel.accessAllowed ? 'block' : 'none';\n",
              "}\n",
              "\n",
              "        displayQuickchartButton(document);\n",
              "      </script>\n",
              "      <style>\n",
              "    .colab-df-container {\n",
              "      display:flex;\n",
              "      flex-wrap:wrap;\n",
              "      gap: 12px;\n",
              "    }\n",
              "\n",
              "    .colab-df-convert {\n",
              "      background-color: #E8F0FE;\n",
              "      border: none;\n",
              "      border-radius: 50%;\n",
              "      cursor: pointer;\n",
              "      display: none;\n",
              "      fill: #1967D2;\n",
              "      height: 32px;\n",
              "      padding: 0 0 0 0;\n",
              "      width: 32px;\n",
              "    }\n",
              "\n",
              "    .colab-df-convert:hover {\n",
              "      background-color: #E2EBFA;\n",
              "      box-shadow: 0px 1px 2px rgba(60, 64, 67, 0.3), 0px 1px 3px 1px rgba(60, 64, 67, 0.15);\n",
              "      fill: #174EA6;\n",
              "    }\n",
              "\n",
              "    [theme=dark] .colab-df-convert {\n",
              "      background-color: #3B4455;\n",
              "      fill: #D2E3FC;\n",
              "    }\n",
              "\n",
              "    [theme=dark] .colab-df-convert:hover {\n",
              "      background-color: #434B5C;\n",
              "      box-shadow: 0px 1px 3px 1px rgba(0, 0, 0, 0.15);\n",
              "      filter: drop-shadow(0px 1px 2px rgba(0, 0, 0, 0.3));\n",
              "      fill: #FFFFFF;\n",
              "    }\n",
              "  </style>\n",
              "\n",
              "      <script>\n",
              "        const buttonEl =\n",
              "          document.querySelector('#df-0cc88e98-e57f-4d30-b045-c1a000186e07 button.colab-df-convert');\n",
              "        buttonEl.style.display =\n",
              "          google.colab.kernel.accessAllowed ? 'block' : 'none';\n",
              "\n",
              "        async function convertToInteractive(key) {\n",
              "          const element = document.querySelector('#df-0cc88e98-e57f-4d30-b045-c1a000186e07');\n",
              "          const dataTable =\n",
              "            await google.colab.kernel.invokeFunction('convertToInteractive',\n",
              "                                                     [key], {});\n",
              "          if (!dataTable) return;\n",
              "\n",
              "          const docLinkHtml = 'Like what you see? Visit the ' +\n",
              "            '<a target=\"_blank\" href=https://colab.research.google.com/notebooks/data_table.ipynb>data table notebook</a>'\n",
              "            + ' to learn more about interactive tables.';\n",
              "          element.innerHTML = '';\n",
              "          dataTable['output_type'] = 'display_data';\n",
              "          await google.colab.output.renderOutput(dataTable, element);\n",
              "          const docLink = document.createElement('div');\n",
              "          docLink.innerHTML = docLinkHtml;\n",
              "          element.appendChild(docLink);\n",
              "        }\n",
              "      </script>\n",
              "    </div>\n",
              "  </div>\n"
            ]
          },
          "metadata": {},
          "execution_count": 52
        }
      ]
    },
    {
      "cell_type": "code",
      "source": [
        "df.info()"
      ],
      "metadata": {
        "colab": {
          "base_uri": "https://localhost:8080/"
        },
        "id": "K7oX0j3Ro8e3",
        "outputId": "31f38449-f60a-42c6-a194-282b0d9e627e"
      },
      "execution_count": 53,
      "outputs": [
        {
          "output_type": "stream",
          "name": "stdout",
          "text": [
            "<class 'pandas.core.frame.DataFrame'>\n",
            "RangeIndex: 40616 entries, 0 to 40615\n",
            "Data columns (total 12 columns):\n",
            " #   Column  Non-Null Count  Dtype  \n",
            "---  ------  --------------  -----  \n",
            " 0   ID      40616 non-null  int64  \n",
            " 1   Age     39143 non-null  float64\n",
            " 2   Height  31615 non-null  float64\n",
            " 3   Team    40616 non-null  object \n",
            " 4   NOC     40616 non-null  object \n",
            " 5   Games   40616 non-null  object \n",
            " 6   Year    40616 non-null  int64  \n",
            " 7   Season  40616 non-null  object \n",
            " 8   City    40616 non-null  object \n",
            " 9   Sport   40616 non-null  object \n",
            " 10  Event   40616 non-null  object \n",
            " 11  Medal   5917 non-null   object \n",
            "dtypes: float64(2), int64(2), object(8)\n",
            "memory usage: 3.7+ MB\n"
          ]
        }
      ]
    },
    {
      "cell_type": "markdown",
      "source": [
        "**1. Carguen este conjunto de datos y explórenlo. Respondan las siguientes preguntas:**"
      ],
      "metadata": {
        "id": "6o5S85f2y4e_"
      }
    },
    {
      "cell_type": "code",
      "source": [
        "#a. ¿Cuántas filas hay?\n",
        "#b. ¿Cuántas columnas hay?\n",
        "df.shape"
      ],
      "metadata": {
        "colab": {
          "base_uri": "https://localhost:8080/"
        },
        "id": "swDA_frkpRxx",
        "outputId": "5df94b81-0bbe-4eee-fd84-82e648d1fbf9"
      },
      "execution_count": 54,
      "outputs": [
        {
          "output_type": "execute_result",
          "data": {
            "text/plain": [
              "(40616, 12)"
            ]
          },
          "metadata": {},
          "execution_count": 54
        }
      ]
    },
    {
      "cell_type": "code",
      "source": [
        "#c. ¿A qué columnas le faltan datos? (¿Por qué creen que hay muchos valores nulos en la columna Medals (medallas)?\n",
        "df.isnull().sum()"
      ],
      "metadata": {
        "colab": {
          "base_uri": "https://localhost:8080/"
        },
        "id": "cLavpvhIo_HV",
        "outputId": "f4d4ecc3-390d-4eea-8f89-c9eb4a502f43"
      },
      "execution_count": 55,
      "outputs": [
        {
          "output_type": "execute_result",
          "data": {
            "text/plain": [
              "ID            0\n",
              "Age        1473\n",
              "Height     9001\n",
              "Team          0\n",
              "NOC           0\n",
              "Games         0\n",
              "Year          0\n",
              "Season        0\n",
              "City          0\n",
              "Sport         0\n",
              "Event         0\n",
              "Medal     34699\n",
              "dtype: int64"
            ]
          },
          "metadata": {},
          "execution_count": 55
        }
      ]
    },
    {
      "cell_type": "code",
      "source": [
        "#Filtramos los datos nulos de la columna Medals para identificar con que otra columna puede relacionarse\n",
        "medals_missing = df['Medal'].isnull() #filtro para valores NaN\n",
        "df.loc[medals_missing,:].head(10)"
      ],
      "metadata": {
        "colab": {
          "base_uri": "https://localhost:8080/",
          "height": 363
        },
        "id": "0AR21WP5pykR",
        "outputId": "368f7f5e-975a-4d7d-a609-fc49488ba06e"
      },
      "execution_count": 56,
      "outputs": [
        {
          "output_type": "execute_result",
          "data": {
            "text/plain": [
              "   ID   Age  Height           Team  NOC        Games  Year  Season  \\\n",
              "0   5  21.0   185.0    Netherlands  NED  1988 Winter  1988  Winter   \n",
              "1   5  21.0   185.0    Netherlands  NED  1988 Winter  1988  Winter   \n",
              "2   5  25.0   185.0    Netherlands  NED  1992 Winter  1992  Winter   \n",
              "3   5  25.0   185.0    Netherlands  NED  1992 Winter  1992  Winter   \n",
              "4   5  27.0   185.0    Netherlands  NED  1994 Winter  1994  Winter   \n",
              "5   5  27.0   185.0    Netherlands  NED  1994 Winter  1994  Winter   \n",
              "6   6  31.0   188.0  United States  USA  1992 Winter  1992  Winter   \n",
              "7   6  31.0   188.0  United States  USA  1992 Winter  1992  Winter   \n",
              "8   6  31.0   188.0  United States  USA  1992 Winter  1992  Winter   \n",
              "9   6  31.0   188.0  United States  USA  1992 Winter  1992  Winter   \n",
              "\n",
              "          City                 Sport  \\\n",
              "0      Calgary         Speed Skating   \n",
              "1      Calgary         Speed Skating   \n",
              "2  Albertville         Speed Skating   \n",
              "3  Albertville         Speed Skating   \n",
              "4  Lillehammer         Speed Skating   \n",
              "5  Lillehammer         Speed Skating   \n",
              "6  Albertville  Cross Country Skiing   \n",
              "7  Albertville  Cross Country Skiing   \n",
              "8  Albertville  Cross Country Skiing   \n",
              "9  Albertville  Cross Country Skiing   \n",
              "\n",
              "                                               Event Medal  \n",
              "0                   Speed Skating Women's 500 metres   NaN  \n",
              "1                 Speed Skating Women's 1,000 metres   NaN  \n",
              "2                   Speed Skating Women's 500 metres   NaN  \n",
              "3                 Speed Skating Women's 1,000 metres   NaN  \n",
              "4                   Speed Skating Women's 500 metres   NaN  \n",
              "5                 Speed Skating Women's 1,000 metres   NaN  \n",
              "6           Cross Country Skiing Men's 10 kilometres   NaN  \n",
              "7           Cross Country Skiing Men's 50 kilometres   NaN  \n",
              "8  Cross Country Skiing Men's 10/15 kilometres Pu...   NaN  \n",
              "9  Cross Country Skiing Men's 4 x 10 kilometres R...   NaN  "
            ],
            "text/html": [
              "\n",
              "\n",
              "  <div id=\"df-afb17eca-f092-401d-97e2-b341ad85f7c8\">\n",
              "    <div class=\"colab-df-container\">\n",
              "      <div>\n",
              "<style scoped>\n",
              "    .dataframe tbody tr th:only-of-type {\n",
              "        vertical-align: middle;\n",
              "    }\n",
              "\n",
              "    .dataframe tbody tr th {\n",
              "        vertical-align: top;\n",
              "    }\n",
              "\n",
              "    .dataframe thead th {\n",
              "        text-align: right;\n",
              "    }\n",
              "</style>\n",
              "<table border=\"1\" class=\"dataframe\">\n",
              "  <thead>\n",
              "    <tr style=\"text-align: right;\">\n",
              "      <th></th>\n",
              "      <th>ID</th>\n",
              "      <th>Age</th>\n",
              "      <th>Height</th>\n",
              "      <th>Team</th>\n",
              "      <th>NOC</th>\n",
              "      <th>Games</th>\n",
              "      <th>Year</th>\n",
              "      <th>Season</th>\n",
              "      <th>City</th>\n",
              "      <th>Sport</th>\n",
              "      <th>Event</th>\n",
              "      <th>Medal</th>\n",
              "    </tr>\n",
              "  </thead>\n",
              "  <tbody>\n",
              "    <tr>\n",
              "      <th>0</th>\n",
              "      <td>5</td>\n",
              "      <td>21.0</td>\n",
              "      <td>185.0</td>\n",
              "      <td>Netherlands</td>\n",
              "      <td>NED</td>\n",
              "      <td>1988 Winter</td>\n",
              "      <td>1988</td>\n",
              "      <td>Winter</td>\n",
              "      <td>Calgary</td>\n",
              "      <td>Speed Skating</td>\n",
              "      <td>Speed Skating Women's 500 metres</td>\n",
              "      <td>NaN</td>\n",
              "    </tr>\n",
              "    <tr>\n",
              "      <th>1</th>\n",
              "      <td>5</td>\n",
              "      <td>21.0</td>\n",
              "      <td>185.0</td>\n",
              "      <td>Netherlands</td>\n",
              "      <td>NED</td>\n",
              "      <td>1988 Winter</td>\n",
              "      <td>1988</td>\n",
              "      <td>Winter</td>\n",
              "      <td>Calgary</td>\n",
              "      <td>Speed Skating</td>\n",
              "      <td>Speed Skating Women's 1,000 metres</td>\n",
              "      <td>NaN</td>\n",
              "    </tr>\n",
              "    <tr>\n",
              "      <th>2</th>\n",
              "      <td>5</td>\n",
              "      <td>25.0</td>\n",
              "      <td>185.0</td>\n",
              "      <td>Netherlands</td>\n",
              "      <td>NED</td>\n",
              "      <td>1992 Winter</td>\n",
              "      <td>1992</td>\n",
              "      <td>Winter</td>\n",
              "      <td>Albertville</td>\n",
              "      <td>Speed Skating</td>\n",
              "      <td>Speed Skating Women's 500 metres</td>\n",
              "      <td>NaN</td>\n",
              "    </tr>\n",
              "    <tr>\n",
              "      <th>3</th>\n",
              "      <td>5</td>\n",
              "      <td>25.0</td>\n",
              "      <td>185.0</td>\n",
              "      <td>Netherlands</td>\n",
              "      <td>NED</td>\n",
              "      <td>1992 Winter</td>\n",
              "      <td>1992</td>\n",
              "      <td>Winter</td>\n",
              "      <td>Albertville</td>\n",
              "      <td>Speed Skating</td>\n",
              "      <td>Speed Skating Women's 1,000 metres</td>\n",
              "      <td>NaN</td>\n",
              "    </tr>\n",
              "    <tr>\n",
              "      <th>4</th>\n",
              "      <td>5</td>\n",
              "      <td>27.0</td>\n",
              "      <td>185.0</td>\n",
              "      <td>Netherlands</td>\n",
              "      <td>NED</td>\n",
              "      <td>1994 Winter</td>\n",
              "      <td>1994</td>\n",
              "      <td>Winter</td>\n",
              "      <td>Lillehammer</td>\n",
              "      <td>Speed Skating</td>\n",
              "      <td>Speed Skating Women's 500 metres</td>\n",
              "      <td>NaN</td>\n",
              "    </tr>\n",
              "    <tr>\n",
              "      <th>5</th>\n",
              "      <td>5</td>\n",
              "      <td>27.0</td>\n",
              "      <td>185.0</td>\n",
              "      <td>Netherlands</td>\n",
              "      <td>NED</td>\n",
              "      <td>1994 Winter</td>\n",
              "      <td>1994</td>\n",
              "      <td>Winter</td>\n",
              "      <td>Lillehammer</td>\n",
              "      <td>Speed Skating</td>\n",
              "      <td>Speed Skating Women's 1,000 metres</td>\n",
              "      <td>NaN</td>\n",
              "    </tr>\n",
              "    <tr>\n",
              "      <th>6</th>\n",
              "      <td>6</td>\n",
              "      <td>31.0</td>\n",
              "      <td>188.0</td>\n",
              "      <td>United States</td>\n",
              "      <td>USA</td>\n",
              "      <td>1992 Winter</td>\n",
              "      <td>1992</td>\n",
              "      <td>Winter</td>\n",
              "      <td>Albertville</td>\n",
              "      <td>Cross Country Skiing</td>\n",
              "      <td>Cross Country Skiing Men's 10 kilometres</td>\n",
              "      <td>NaN</td>\n",
              "    </tr>\n",
              "    <tr>\n",
              "      <th>7</th>\n",
              "      <td>6</td>\n",
              "      <td>31.0</td>\n",
              "      <td>188.0</td>\n",
              "      <td>United States</td>\n",
              "      <td>USA</td>\n",
              "      <td>1992 Winter</td>\n",
              "      <td>1992</td>\n",
              "      <td>Winter</td>\n",
              "      <td>Albertville</td>\n",
              "      <td>Cross Country Skiing</td>\n",
              "      <td>Cross Country Skiing Men's 50 kilometres</td>\n",
              "      <td>NaN</td>\n",
              "    </tr>\n",
              "    <tr>\n",
              "      <th>8</th>\n",
              "      <td>6</td>\n",
              "      <td>31.0</td>\n",
              "      <td>188.0</td>\n",
              "      <td>United States</td>\n",
              "      <td>USA</td>\n",
              "      <td>1992 Winter</td>\n",
              "      <td>1992</td>\n",
              "      <td>Winter</td>\n",
              "      <td>Albertville</td>\n",
              "      <td>Cross Country Skiing</td>\n",
              "      <td>Cross Country Skiing Men's 10/15 kilometres Pu...</td>\n",
              "      <td>NaN</td>\n",
              "    </tr>\n",
              "    <tr>\n",
              "      <th>9</th>\n",
              "      <td>6</td>\n",
              "      <td>31.0</td>\n",
              "      <td>188.0</td>\n",
              "      <td>United States</td>\n",
              "      <td>USA</td>\n",
              "      <td>1992 Winter</td>\n",
              "      <td>1992</td>\n",
              "      <td>Winter</td>\n",
              "      <td>Albertville</td>\n",
              "      <td>Cross Country Skiing</td>\n",
              "      <td>Cross Country Skiing Men's 4 x 10 kilometres R...</td>\n",
              "      <td>NaN</td>\n",
              "    </tr>\n",
              "  </tbody>\n",
              "</table>\n",
              "</div>\n",
              "      <button class=\"colab-df-convert\" onclick=\"convertToInteractive('df-afb17eca-f092-401d-97e2-b341ad85f7c8')\"\n",
              "              title=\"Convert this dataframe to an interactive table.\"\n",
              "              style=\"display:none;\">\n",
              "\n",
              "  <svg xmlns=\"http://www.w3.org/2000/svg\" height=\"24px\"viewBox=\"0 0 24 24\"\n",
              "       width=\"24px\">\n",
              "    <path d=\"M0 0h24v24H0V0z\" fill=\"none\"/>\n",
              "    <path d=\"M18.56 5.44l.94 2.06.94-2.06 2.06-.94-2.06-.94-.94-2.06-.94 2.06-2.06.94zm-11 1L8.5 8.5l.94-2.06 2.06-.94-2.06-.94L8.5 2.5l-.94 2.06-2.06.94zm10 10l.94 2.06.94-2.06 2.06-.94-2.06-.94-.94-2.06-.94 2.06-2.06.94z\"/><path d=\"M17.41 7.96l-1.37-1.37c-.4-.4-.92-.59-1.43-.59-.52 0-1.04.2-1.43.59L10.3 9.45l-7.72 7.72c-.78.78-.78 2.05 0 2.83L4 21.41c.39.39.9.59 1.41.59.51 0 1.02-.2 1.41-.59l7.78-7.78 2.81-2.81c.8-.78.8-2.07 0-2.86zM5.41 20L4 18.59l7.72-7.72 1.47 1.35L5.41 20z\"/>\n",
              "  </svg>\n",
              "      </button>\n",
              "\n",
              "\n",
              "\n",
              "    <div id=\"df-8abf3bfd-f479-4ce0-9e48-1999ae87d14c\">\n",
              "      <button class=\"colab-df-quickchart\" onclick=\"quickchart('df-8abf3bfd-f479-4ce0-9e48-1999ae87d14c')\"\n",
              "              title=\"Suggest charts.\"\n",
              "              style=\"display:none;\">\n",
              "\n",
              "<svg xmlns=\"http://www.w3.org/2000/svg\" height=\"24px\"viewBox=\"0 0 24 24\"\n",
              "     width=\"24px\">\n",
              "    <g>\n",
              "        <path d=\"M19 3H5c-1.1 0-2 .9-2 2v14c0 1.1.9 2 2 2h14c1.1 0 2-.9 2-2V5c0-1.1-.9-2-2-2zM9 17H7v-7h2v7zm4 0h-2V7h2v10zm4 0h-2v-4h2v4z\"/>\n",
              "    </g>\n",
              "</svg>\n",
              "      </button>\n",
              "    </div>\n",
              "\n",
              "<style>\n",
              "  .colab-df-quickchart {\n",
              "    background-color: #E8F0FE;\n",
              "    border: none;\n",
              "    border-radius: 50%;\n",
              "    cursor: pointer;\n",
              "    display: none;\n",
              "    fill: #1967D2;\n",
              "    height: 32px;\n",
              "    padding: 0 0 0 0;\n",
              "    width: 32px;\n",
              "  }\n",
              "\n",
              "  .colab-df-quickchart:hover {\n",
              "    background-color: #E2EBFA;\n",
              "    box-shadow: 0px 1px 2px rgba(60, 64, 67, 0.3), 0px 1px 3px 1px rgba(60, 64, 67, 0.15);\n",
              "    fill: #174EA6;\n",
              "  }\n",
              "\n",
              "  [theme=dark] .colab-df-quickchart {\n",
              "    background-color: #3B4455;\n",
              "    fill: #D2E3FC;\n",
              "  }\n",
              "\n",
              "  [theme=dark] .colab-df-quickchart:hover {\n",
              "    background-color: #434B5C;\n",
              "    box-shadow: 0px 1px 3px 1px rgba(0, 0, 0, 0.15);\n",
              "    filter: drop-shadow(0px 1px 2px rgba(0, 0, 0, 0.3));\n",
              "    fill: #FFFFFF;\n",
              "  }\n",
              "</style>\n",
              "\n",
              "    <script>\n",
              "      async function quickchart(key) {\n",
              "        const containerElement = document.querySelector('#' + key);\n",
              "        const charts = await google.colab.kernel.invokeFunction(\n",
              "            'suggestCharts', [key], {});\n",
              "      }\n",
              "    </script>\n",
              "\n",
              "      <script>\n",
              "\n",
              "function displayQuickchartButton(domScope) {\n",
              "  let quickchartButtonEl =\n",
              "    domScope.querySelector('#df-8abf3bfd-f479-4ce0-9e48-1999ae87d14c button.colab-df-quickchart');\n",
              "  quickchartButtonEl.style.display =\n",
              "    google.colab.kernel.accessAllowed ? 'block' : 'none';\n",
              "}\n",
              "\n",
              "        displayQuickchartButton(document);\n",
              "      </script>\n",
              "      <style>\n",
              "    .colab-df-container {\n",
              "      display:flex;\n",
              "      flex-wrap:wrap;\n",
              "      gap: 12px;\n",
              "    }\n",
              "\n",
              "    .colab-df-convert {\n",
              "      background-color: #E8F0FE;\n",
              "      border: none;\n",
              "      border-radius: 50%;\n",
              "      cursor: pointer;\n",
              "      display: none;\n",
              "      fill: #1967D2;\n",
              "      height: 32px;\n",
              "      padding: 0 0 0 0;\n",
              "      width: 32px;\n",
              "    }\n",
              "\n",
              "    .colab-df-convert:hover {\n",
              "      background-color: #E2EBFA;\n",
              "      box-shadow: 0px 1px 2px rgba(60, 64, 67, 0.3), 0px 1px 3px 1px rgba(60, 64, 67, 0.15);\n",
              "      fill: #174EA6;\n",
              "    }\n",
              "\n",
              "    [theme=dark] .colab-df-convert {\n",
              "      background-color: #3B4455;\n",
              "      fill: #D2E3FC;\n",
              "    }\n",
              "\n",
              "    [theme=dark] .colab-df-convert:hover {\n",
              "      background-color: #434B5C;\n",
              "      box-shadow: 0px 1px 3px 1px rgba(0, 0, 0, 0.15);\n",
              "      filter: drop-shadow(0px 1px 2px rgba(0, 0, 0, 0.3));\n",
              "      fill: #FFFFFF;\n",
              "    }\n",
              "  </style>\n",
              "\n",
              "      <script>\n",
              "        const buttonEl =\n",
              "          document.querySelector('#df-afb17eca-f092-401d-97e2-b341ad85f7c8 button.colab-df-convert');\n",
              "        buttonEl.style.display =\n",
              "          google.colab.kernel.accessAllowed ? 'block' : 'none';\n",
              "\n",
              "        async function convertToInteractive(key) {\n",
              "          const element = document.querySelector('#df-afb17eca-f092-401d-97e2-b341ad85f7c8');\n",
              "          const dataTable =\n",
              "            await google.colab.kernel.invokeFunction('convertToInteractive',\n",
              "                                                     [key], {});\n",
              "          if (!dataTable) return;\n",
              "\n",
              "          const docLinkHtml = 'Like what you see? Visit the ' +\n",
              "            '<a target=\"_blank\" href=https://colab.research.google.com/notebooks/data_table.ipynb>data table notebook</a>'\n",
              "            + ' to learn more about interactive tables.';\n",
              "          element.innerHTML = '';\n",
              "          dataTable['output_type'] = 'display_data';\n",
              "          await google.colab.output.renderOutput(dataTable, element);\n",
              "          const docLink = document.createElement('div');\n",
              "          docLink.innerHTML = docLinkHtml;\n",
              "          element.appendChild(docLink);\n",
              "        }\n",
              "      </script>\n",
              "    </div>\n",
              "  </div>\n"
            ]
          },
          "metadata": {},
          "execution_count": 56
        }
      ]
    },
    {
      "cell_type": "markdown",
      "source": [
        "Al parecer una de las razones por las que faltan muchos datos en la columna Medals que se observa al ver la tabla anterior es que hay muchas filas duplicadas, revisaremos cuantos duplicados hay"
      ],
      "metadata": {
        "id": "vcfsrpFkqRK_"
      }
    },
    {
      "cell_type": "code",
      "source": [
        "df.duplicated().sum()"
      ],
      "metadata": {
        "colab": {
          "base_uri": "https://localhost:8080/"
        },
        "id": "KW-b48Gkqar0",
        "outputId": "df9e7b29-1914-4809-a069-ad5fad4ab5c8"
      },
      "execution_count": 57,
      "outputs": [
        {
          "output_type": "execute_result",
          "data": {
            "text/plain": [
              "207"
            ]
          },
          "metadata": {},
          "execution_count": 57
        }
      ]
    },
    {
      "cell_type": "code",
      "source": [
        "#Cuantos son los datos faltamtes en la Columna Medals\n",
        "sum_medal_missing = df['Medal'].isna().sum()\n",
        "total_medal_missing = (sum_medal_missing/len(df))*100\n",
        "print(f\"La columna 'Medal' tiene {total_medal_missing:.2f}% de datos nulos\")"
      ],
      "metadata": {
        "colab": {
          "base_uri": "https://localhost:8080/"
        },
        "id": "WIeBrHs4rFEA",
        "outputId": "8d4f787c-d250-44a1-b111-78e424ef697b"
      },
      "execution_count": 58,
      "outputs": [
        {
          "output_type": "stream",
          "name": "stdout",
          "text": [
            "La columna 'Medal' tiene 85.43% de datos nulos\n"
          ]
        }
      ]
    },
    {
      "cell_type": "code",
      "source": [
        "#Age\n",
        "#Cuantos son los datos faltamtes en la Columna Age\n",
        "sum_age_missing = df['Age'].isna().sum()\n",
        "total_age_missing = (sum_age_missing/len(df))*100\n",
        "print(f\"La columna 'Age' tiene {total_age_missing:.2f}% de datos nulos\")"
      ],
      "metadata": {
        "colab": {
          "base_uri": "https://localhost:8080/"
        },
        "id": "W0hIBWGqrz82",
        "outputId": "994464dd-7623-49d1-d8af-025f2d36e274"
      },
      "execution_count": 59,
      "outputs": [
        {
          "output_type": "stream",
          "name": "stdout",
          "text": [
            "La columna 'Age' tiene 3.63% de datos nulos\n"
          ]
        }
      ]
    },
    {
      "cell_type": "code",
      "source": [
        "#Height\n",
        "#Cuantos son los datos faltamtes en la Columna Height\n",
        "sum_Height_missing = df['Height'].isna().sum()\n",
        "total_Height_missing = (sum_Height_missing/len(df))*100\n",
        "print(f\"La columna 'Height' tiene {total_Height_missing:.2f}% de datos nulos\")"
      ],
      "metadata": {
        "colab": {
          "base_uri": "https://localhost:8080/"
        },
        "id": "TdYisKJbsBsH",
        "outputId": "7b2c90d6-30cf-4eeb-99bd-32d4e8fb8be8"
      },
      "execution_count": 60,
      "outputs": [
        {
          "output_type": "stream",
          "name": "stdout",
          "text": [
            "La columna 'Height' tiene 22.16% de datos nulos\n"
          ]
        }
      ]
    },
    {
      "cell_type": "code",
      "source": [
        "#d. ¿Cuántas entradas corresponden a la ciudad de Londres?\n",
        "df_filtrado = df['City']=='London'\n",
        "df_filtrado.value_counts()"
      ],
      "metadata": {
        "colab": {
          "base_uri": "https://localhost:8080/"
        },
        "id": "91gZB68zsnAz",
        "outputId": "3a1f1e9e-de08-405b-f27f-2f92a6bd6f8b"
      },
      "execution_count": 61,
      "outputs": [
        {
          "output_type": "execute_result",
          "data": {
            "text/plain": [
              "False    37246\n",
              "True      3370\n",
              "Name: City, dtype: int64"
            ]
          },
          "metadata": {},
          "execution_count": 61
        }
      ]
    },
    {
      "cell_type": "code",
      "source": [
        "#e. ¿Cuántos años tiene el atleta más joven en nuestros datos de muestra? Pista: usen min()\n",
        "df['Age'].min()"
      ],
      "metadata": {
        "colab": {
          "base_uri": "https://localhost:8080/"
        },
        "id": "P6GM6riat--2",
        "outputId": "4abff192-a149-40f7-a891-b7d2c9cbf823"
      },
      "execution_count": 62,
      "outputs": [
        {
          "output_type": "execute_result",
          "data": {
            "text/plain": [
              "11.0"
            ]
          },
          "metadata": {},
          "execution_count": 62
        }
      ]
    },
    {
      "cell_type": "markdown",
      "source": [
        "El atleta más joven en los datos tiene 11 años."
      ],
      "metadata": {
        "id": "Bgui3HtMuGla"
      }
    },
    {
      "cell_type": "markdown",
      "source": [
        "**2. Creen filtros para encontrar:**"
      ],
      "metadata": {
        "id": "QCqnsoB4zG5a"
      }
    },
    {
      "cell_type": "code",
      "source": [
        "#¿Cuántos atletas que participaron en el deporte \"Tug-Of-War\" (tira y afloja) pertenecían en el equipo “Sweden” (sueco) en el conjunto de datos de muestra?\n",
        "df_sports = df['Sport']=='Tug-Of-War'\n",
        "df_team = df['Team']=='Sweden'\n",
        "df_sports_team = (df_sports & df_team)\n",
        "df_sports_team.value_counts()"
      ],
      "metadata": {
        "colab": {
          "base_uri": "https://localhost:8080/"
        },
        "id": "YRz8hD7duZMk",
        "outputId": "fff1b890-dd8c-43ab-d8d5-4b24de3ae4a7"
      },
      "execution_count": 63,
      "outputs": [
        {
          "output_type": "execute_result",
          "data": {
            "text/plain": [
              "False    40610\n",
              "True         6\n",
              "dtype: int64"
            ]
          },
          "metadata": {},
          "execution_count": 63
        }
      ]
    },
    {
      "cell_type": "markdown",
      "source": [
        "6 atletas que participaron en el deporte \"Tug-Of-War\" (tira y afloja) pertenecían en el equipo “Sweden” (sueco) en el conjunto de datos de muestra."
      ],
      "metadata": {
        "id": "sC7kteiFv63f"
      }
    },
    {
      "cell_type": "code",
      "source": [
        "#¿Cuántas medallas de oro se le entregaron a los atletas que tenían más de 40 años?\n",
        "df_40 = df['Age']>40\n",
        "df_medals_oro = df['Medal']=='Gold'\n",
        "df_40_oro = (df_40 & df_medals_oro)\n",
        "df_40_oro.sum()"
      ],
      "metadata": {
        "colab": {
          "base_uri": "https://localhost:8080/"
        },
        "id": "6lpt_lxOwPD_",
        "outputId": "b1cbbeee-8385-4a28-db82-1dac90a1f9ba"
      },
      "execution_count": 64,
      "outputs": [
        {
          "output_type": "execute_result",
          "data": {
            "text/plain": [
              "66"
            ]
          },
          "metadata": {},
          "execution_count": 64
        }
      ]
    },
    {
      "cell_type": "code",
      "source": [
        "df['Medal'].value_counts()"
      ],
      "metadata": {
        "colab": {
          "base_uri": "https://localhost:8080/"
        },
        "id": "Yein-Dj9x9iy",
        "outputId": "169c8f3c-49f1-4961-fd47-0e52f5fd3794"
      },
      "execution_count": 65,
      "outputs": [
        {
          "output_type": "execute_result",
          "data": {
            "text/plain": [
              "Gold      2009\n",
              "Bronze    1994\n",
              "Silver    1914\n",
              "Name: Medal, dtype: int64"
            ]
          },
          "metadata": {},
          "execution_count": 65
        }
      ]
    },
    {
      "cell_type": "markdown",
      "source": [
        "66 medallas de oro de un total de 2009, se le entregaron a los atletas que tenían más de 40 años."
      ],
      "metadata": {
        "id": "EvBNNl7eyW7d"
      }
    },
    {
      "cell_type": "markdown",
      "source": [
        "**3. Determinen la altura promedio**\n"
      ],
      "metadata": {
        "id": "hXbOJd-LzQB0"
      }
    },
    {
      "cell_type": "code",
      "source": [
        "#a. Todas las filas incluidas.\n",
        "df['Height'].mean().round(1)"
      ],
      "metadata": {
        "colab": {
          "base_uri": "https://localhost:8080/"
        },
        "id": "wx2eQafh0O1w",
        "outputId": "7625d7b8-ed31-4f98-9688-2f32b830bcfa"
      },
      "execution_count": 68,
      "outputs": [
        {
          "output_type": "execute_result",
          "data": {
            "text/plain": [
              "175.4"
            ]
          },
          "metadata": {},
          "execution_count": 68
        }
      ]
    },
    {
      "cell_type": "markdown",
      "source": [
        "La altura promedio con todas las filas incluidas es de 175 cms"
      ],
      "metadata": {
        "id": "OXnjuewe0msP"
      }
    },
    {
      "cell_type": "code",
      "source": [
        "#b. Todas las filas incluidas, pero agrupadas por Event (evento).\n",
        "df_evento = df.groupby('Event')['Height'].mean().round(1)\n",
        "df_evento"
      ],
      "metadata": {
        "colab": {
          "base_uri": "https://localhost:8080/"
        },
        "id": "soTzMcy-0UFp",
        "outputId": "0bfb0257-6d29-4d04-94f0-4d613f3151bd"
      },
      "execution_count": 69,
      "outputs": [
        {
          "output_type": "execute_result",
          "data": {
            "text/plain": [
              "Event\n",
              "Alpine Skiing Men's Combined                      178.5\n",
              "Alpine Skiing Men's Downhill                      178.2\n",
              "Alpine Skiing Men's Giant Slalom                  176.7\n",
              "Alpine Skiing Men's Slalom                        176.5\n",
              "Alpine Skiing Men's Super G                       179.9\n",
              "                                                  ...  \n",
              "Wrestling Women's Flyweight, Freestyle            158.1\n",
              "Wrestling Women's Heavyweight, Freestyle          173.4\n",
              "Wrestling Women's Light-Heavyweight, Freestyle    170.0\n",
              "Wrestling Women's Lightweight, Freestyle          162.7\n",
              "Wrestling Women's Middleweight, Freestyle         164.5\n",
              "Name: Height, Length: 726, dtype: float64"
            ]
          },
          "metadata": {},
          "execution_count": 69
        }
      ]
    },
    {
      "cell_type": "markdown",
      "source": [
        "**c. Bono**: Este conjunto de datos contiene muchos atletas más de una vez (si compitieron en varios eventos y/o varios años). Pueden confirmarlo encontrarlo .value_counts en la columna ID. Para la tarea del bono queremos que obtengan la altura promedio de todos los atletas, pero sin incluir algún atleta más de una vez. Pista: Aprendimos cómo eliminar duplicados si CADA columna fuera idéntica, sin embargo, ahora tenemos que eliminar una fila cada vez que un ID se repite. Para hacer eso, pueden usar un subconjunto de sus datos como un argumento en la función drop_duplicates. También le pueden decir a Python cuales duplicados mantener usando el argumento keep."
      ],
      "metadata": {
        "id": "SCHrLb2O0bRz"
      }
    },
    {
      "cell_type": "code",
      "source": [
        "df['ID'].value_counts()"
      ],
      "metadata": {
        "colab": {
          "base_uri": "https://localhost:8080/"
        },
        "id": "lJHnUVNs71KO",
        "outputId": "c3c4f92e-0609-491f-86b6-7749dd68a0c2"
      },
      "execution_count": 70,
      "outputs": [
        {
          "output_type": "execute_result",
          "data": {
            "text/plain": [
              "119591    36\n",
              "44875     32\n",
              "76437     31\n",
              "133279    30\n",
              "21462     29\n",
              "          ..\n",
              "78467      1\n",
              "78468      1\n",
              "78470      1\n",
              "78474      1\n",
              "91368      1\n",
              "Name: ID, Length: 20336, dtype: int64"
            ]
          },
          "metadata": {},
          "execution_count": 70
        }
      ]
    },
    {
      "cell_type": "code",
      "source": [
        "#Because I don't want to drop all of these values permanently from my df,\n",
        "#assign this as a new dataframe that I called \"one_per_athlete\"\n",
        "one_per_athlete = df.drop_duplicates(subset = 'Height', keep = 'first')"
      ],
      "metadata": {
        "id": "ghJCMPDV8fY_"
      },
      "execution_count": 72,
      "outputs": []
    },
    {
      "cell_type": "code",
      "source": [
        "one_per_athlete['ID'].value_counts()"
      ],
      "metadata": {
        "colab": {
          "base_uri": "https://localhost:8080/"
        },
        "id": "SxdF5YHP8sBL",
        "outputId": "31919899-af24-472c-b761-27eefd905db7"
      },
      "execution_count": 73,
      "outputs": [
        {
          "output_type": "execute_result",
          "data": {
            "text/plain": [
              "5         1\n",
              "9407      1\n",
              "7769      1\n",
              "7283      1\n",
              "7109      1\n",
              "         ..\n",
              "526       1\n",
              "452       1\n",
              "351       1\n",
              "336       1\n",
              "111572    1\n",
              "Name: ID, Length: 82, dtype: int64"
            ]
          },
          "metadata": {},
          "execution_count": 73
        }
      ]
    },
    {
      "cell_type": "code",
      "source": [
        "one_per_athlete['Height'].mean().round(1)"
      ],
      "metadata": {
        "colab": {
          "base_uri": "https://localhost:8080/"
        },
        "id": "UUjBBMIZ9UPj",
        "outputId": "ed436fb3-01a9-48f3-beb7-8561bcc3cb20"
      },
      "execution_count": 75,
      "outputs": [
        {
          "output_type": "execute_result",
          "data": {
            "text/plain": [
              "178.0"
            ]
          },
          "metadata": {},
          "execution_count": 75
        }
      ]
    },
    {
      "cell_type": "markdown",
      "source": [
        "La Altura promedio de los atletas sin aparecer más de una vez es de 178 cms."
      ],
      "metadata": {
        "id": "5HMLm_Vk9fOb"
      }
    },
    {
      "cell_type": "markdown",
      "source": [
        "###V. **Referencias**\n",
        "\n",
        "\n",
        "* [Curso Coding Dojo - Data Science](https://github.com/fralfaro/CD-DS-Course)\n",
        "* [Kaggle - Competitions](https://www.kaggle.com/competitions)\n",
        "* [fralfaro-github-vusualization](https://fralfaro.github.io/MAT281_2022/lectures/data_manipulation/visualization/seaborn/)"
      ],
      "metadata": {
        "id": "SrvE8gQVK1pM"
      }
    }
  ]
}